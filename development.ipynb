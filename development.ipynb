{
 "cells": [
  {
   "cell_type": "markdown",
   "metadata": {},
   "source": [
    "## Project Description\n",
    "\n",
    "This project is a regression project that aims to predict the IQ of a baby based on a set of input features from their mother. The stages involved in this project are as follows:\n",
    "\n",
    "1. Data Exploration: In this stage, we analyze the dataset to gain insights into its structure, identify potential relationships between variables, and understand the distribution of the target variable.\n",
    "\n",
    "2. Data Cleaning: In this stage, we handle missing values, outliers, and any inconsistencies in the dataset. This involves techniques such as imputation, removal of outliers, and data normalization.\n",
    "\n",
    "3. Data Analysis: In this stage, we perform exploratory data analysis (EDA) to further understand the relationships between variables, identify patterns, and detect any potential issues that may affect the regression model.\n",
    "\n",
    "4. Model Development: In this stage, we develop a regression model using appropriate algorithms such as linear regression, decision trees, or ensemble methods. We train the model on the cleaned dataset and tune its hyperparameters to optimize its performance.\n",
    "\n",
    "5. Model Testing: In this stage, we evaluate the performance of the regression model using appropriate evaluation metrics such as mean squared error (MSE), root mean squared error (RMSE), or R-squared. We assess the model's ability to generalize to unseen data and make predictions on new instances.\n",
    "\n",
    "Throughout these stages, we may iterate and refine our approach based on the insights gained and the performance of the model. The ultimate goal is to build an accurate regression model that can effectively predict the target variable based on the given input features.\n"
   ]
  },
  {
   "cell_type": "code",
   "execution_count": 3,
   "metadata": {},
   "outputs": [],
   "source": [
    "import pandas as pd\n",
    "import sys"
   ]
  },
  {
   "cell_type": "markdown",
   "metadata": {},
   "source": [
    "# 1. Data exploration"
   ]
  },
  {
   "cell_type": "code",
   "execution_count": 9,
   "metadata": {},
   "outputs": [],
   "source": [
    "sys.path.append('../DATA/iq_data')\n",
    "data_child = pd.read_csv('../DATA/iq_data/child_iq.csv')\n",
    "data_kid = pd.read_csv('../DATA/iq_data/kid_iq.csv')"
   ]
  },
  {
   "cell_type": "markdown",
   "metadata": {},
   "source": [
    "data_child -> provides information like the child' test score at age 3 (ppvt), the mother's age at childbirth (momage), and the mother's education level (educ_cat, where 1 stands for no HS education, 2 = HS grad, 3 = some college, and 4 = college grad).\n",
    "\n",
    "data_kid -> provides information on the kid's score (kid_score), if the mother went to high school or not (mom_hs), on the mother's IQ (mom_iq), on her job (mom_work), and finally on her age (mom_age)"
   ]
  },
  {
   "cell_type": "code",
   "execution_count": null,
   "metadata": {},
   "outputs": [],
   "source": []
  }
 ],
 "metadata": {
  "kernelspec": {
   "display_name": ".venv",
   "language": "python",
   "name": "python3"
  },
  "language_info": {
   "codemirror_mode": {
    "name": "ipython",
    "version": 3
   },
   "file_extension": ".py",
   "mimetype": "text/x-python",
   "name": "python",
   "nbconvert_exporter": "python",
   "pygments_lexer": "ipython3",
   "version": "3.12.2"
  }
 },
 "nbformat": 4,
 "nbformat_minor": 2
}
